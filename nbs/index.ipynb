{
 "cells": [
  {
   "cell_type": "markdown",
   "metadata": {},
   "source": [
    "<div  align=\"center\">\n",
    "\n",
    "<h1>Towards Efficient Modelling of String Dynamics: A Comparison of State Space and Koopman based Deep Learning Methods</h1>\n",
    "\n",
    "> This is the accompanying repository for the paper [Towards Efficient Modelling of String Dynamics: A Comparison of State Space and Koopman Methods\n",
    "](https://arxiv.org/abs/2408.16650).\n",
    "\n",
    "[![arXiv](https://img.shields.io/badge/arXiv-2408.16650-b31b1b.svg)](https://arxiv.org/abs/2408.16650)\n",
    "\n",
    "</div>\n"
   ]
  },
  {
   "cell_type": "markdown",
   "metadata": {},
   "source": [
    "## Install"
   ]
  },
  {
   "cell_type": "markdown",
   "metadata": {},
   "source": [
    "Create an enviroment with conda with at least python 3.10\n",
    "\n",
    "```bash\n",
    "conda create -n physmodjax python=3.10\n",
    "```"
   ]
  },
  {
   "cell_type": "markdown",
   "metadata": {},
   "source": [
    "Install Jax **first**\n",
    "\n",
    "```bash\n",
    "pip install --upgrade \"jax[cuda12_pip]\" -f https://storage.googleapis.com/jax-releases/jax_cuda_releases.html\n",
    "```"
   ]
  },
  {
   "cell_type": "markdown",
   "metadata": {},
   "source": [
    "Install the rest of the dependencies"
   ]
  },
  {
   "cell_type": "markdown",
   "metadata": {},
   "source": [
    "```bash\n",
    "pip install -e '.[dev]'\n",
    "```"
   ]
  },
  {
   "cell_type": "markdown",
   "metadata": {},
   "source": [
    "## Generate the dataset\n",
    "\n",
    "To generate the dataset use the following command from the root of the repository, after installing the library:\n",
    "\n",
    "```bash\n",
    "generate_dataset -m +dataset=ftm_string_linear\n",
    "generate_dataset -m +dataset=ftm_string_nonlinear\n",
    "```\n",
    "\n",
    "Each command will create 4 folders with combinations of initial conditions and sampling rates for the linear and nonlinear string models.\n",
    "\n",
    "Each dataset folder must be converted to a single file .npy file using the following command, for example:\n",
    "\n",
    "```bash\n",
    "convert_to_single_file \\\n",
    "data/ftm_linear/ftm_string_lin_1000_Gaussian_4000Hz \\\n",
    "data/ftm_linear/ftm_string_lin_1000_Gaussian_4000Hz.npy\n",
    "```\n",
    "\n",
    "We do this to speed up the data loading process during training."
   ]
  },
  {
   "cell_type": "markdown",
   "metadata": {},
   "source": [
    "### Data convention\n",
    "\n",
    "The data has the following convention:\n",
    "\n",
    "<p style=\"text-align: center;\">\n",
    "\n",
    "    (timesteps, gridpoints[x,y,z], state_variables[u,v])\n",
    "\n",
    "</p>\n",
    "\n",
    "and for multiple trajectories (initial conditions):\n",
    "\n",
    "<p style=\"text-align: center;\">\n",
    "\n",
    "    (initial_conditions, timesteps, gridpoints[x,y,z], state_variables[u,v])\n",
    "\n",
    "</p>\n"
   ]
  },
  {
   "cell_type": "markdown",
   "metadata": {},
   "source": [
    "## Premade Datasets\n",
    "\n",
    "The location for storing datasets in apocrita is:\n",
    "\n",
    "```bash\n",
    "/data/EECS-Sandler-Lab/physical_modelling\n",
    "```"
   ]
  },
  {
   "cell_type": "markdown",
   "metadata": {},
   "source": [
    "## Train"
   ]
  },
  {
   "cell_type": "markdown",
   "metadata": {},
   "source": [
    "All experiments need a path where the data is located. This has to be appended to the command:\n",
    "\n",
    "```bash\n",
    "++datamodule.data_array=data.npy\n",
    "```"
   ]
  },
  {
   "cell_type": "markdown",
   "metadata": {},
   "source": [
    "### Train 1d model (default whole truncated trajectory at 4000 steps)\n",
    "\n",
    "\n",
    "| Model                      | Command                                                                                                                   |\n",
    "|----------------------------|---------------------------------------------------------------------------------------------------------------------------|\n",
    "| 1d Koopman                 | `train_rnn +experiment=1d_koopman ++epochs=1000 ++epochs_val=50 ++optimiser.learning_rate=0.001 ++model.d_vars=1`         |\n",
    "| 1d Koopman time-varying    | `train_rnn +experiment=1d_koopman_varying ++epochs=1000 ++epochs_val=50 ++optimiser.learning_rate=0.001 ++model.d_vars=1` |   \n",
    "| 1d LRU                     | `train_rnn +experiment=1d_lru ++epochs=1000 ++epochs_val=50 ++optimiser.learning_rate=0.001 ++model.d_vars=1`             |\n",
    "| 1d S5                      | `train_rnn +experiment=1d_s5 ++epochs=1000 ++epochs_val=50 ++optimiser.learning_rate=0.001 ++model.d_vars=1`              |\n",
    "| 1d FNO                     | `train_rnn +experiment=1d_fno ++epochs=1000 ++epochs_val=50 ++optimiser.learning_rate=0.001 ++model.d_vars=1`             |\n"
   ]
  },
  {
   "cell_type": "markdown",
   "metadata": {},
   "source": [
    "### Train 1d model with non-overlapping segments of 400 steps (for AR mode)\n",
    "\n",
    "\n",
    "| Model                      | Command                                                               |\n",
    "|----------------------------|-----------------------------------------------------------------------|\n",
    "| 1d Koopman                 | `train_rnn +experiment=1d_koopman datamodule=string_windowed`         |\n",
    "| 1d Koopman time-varying    | `train_rnn +experiment=1d_koopman_varying datamodule=string_windowed` |\n",
    "| 1d LRU                     | `train_rnn +experiment=1d_lru datamodule=string_windowed`             |\n",
    "| 1d S5                      | `train_rnn +experiment=1d_s5 datamodule=string_windowed`              |\n",
    "| 1d FNO                     | `train_rnn +experiment=1d_fno datamodule=string_windowed`             |\n"
   ]
  },
  {
   "cell_type": "markdown",
   "metadata": {},
   "source": [
    "### Train 1d model with random (overlapping) segments of 400 steps per trajectory (for AR mode)\n",
    "\n",
    "Here we can also test against FNO.\n",
    "\n",
    "| Model                      | Command                                                                                       |\n",
    "|----------------------------|-----------------------------------------------------------------------------------------------|\n",
    "| 1d Koopman                 | `train_rnn +experiment=1d_koopman datamodule=string_tb ++epochs=200 ++epochs_val=20`         |\n",
    "| 1d Koopman time-varying    | `train_rnn +experiment=1d_koopman_varying datamodule=string_tb ++epochs=200 ++epochs_val=20` |\n",
    "| 1d LRU                     | `train_rnn +experiment=1d_lru datamodule=string_tb ++epochs=200 ++epochs_val=20`             |\n",
    "| 1d S5                      | `train_rnn +experiment=1d_s5 datamodule=string_tb ++epochs=200 ++epochs_val=20`              |\n",
    "| 1d FNO                     | `train_rnn +experiment=1d_s5 datamodule=string_tb +experiment=1d_fno_tb ++epochs=200 ++epochs_val=20`                           |\n",
    "\n"
   ]
  },
  {
   "cell_type": "markdown",
   "metadata": {},
   "source": [
    "## Testing the library"
   ]
  },
  {
   "cell_type": "markdown",
   "metadata": {},
   "source": [
    "For development purposes, you can use the following command to test the library:\n",
    "\n",
    "```bash\n",
    "JAX_PLATFORMS=cpu nbdev_test\n",
    "```\n",
    "\n",
    "\n",
    "Using the `JAX_PLATFORMS=cpu` environment variable is important to avoid using the GPU, as the tests are not optimized for GPU usage."
   ]
  },
  {
   "cell_type": "markdown",
   "metadata": {},
   "source": [
    "The same should be done for exporting the readme:\n",
    "\n",
    "```bash\n",
    "JAX_PLATFORMS=cpu nbdev_readme\n",
    "```"
   ]
  }
 ],
 "metadata": {
  "kernelspec": {
   "display_name": "python3",
   "language": "python",
   "name": "python3"
  }
 },
 "nbformat": 4,
 "nbformat_minor": 4
}
