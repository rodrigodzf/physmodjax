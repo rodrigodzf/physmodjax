{
 "cells": [
  {
   "cell_type": "markdown",
   "metadata": {},
   "source": [
    "# Metrics and losses\n",
    "\n",
    "> Metrics and losses for training and evaluation."
   ]
  },
  {
   "cell_type": "code",
   "execution_count": null,
   "metadata": {},
   "outputs": [],
   "source": [
    "# | default_exp utils.metrics"
   ]
  },
  {
   "cell_type": "code",
   "execution_count": null,
   "metadata": {},
   "outputs": [],
   "source": [
    "# | export\n",
    "import jax\n",
    "import jax.numpy as jnp\n",
    "import numpy as np"
   ]
  },
  {
   "cell_type": "code",
   "execution_count": null,
   "metadata": {},
   "outputs": [],
   "source": [
    "# | export\n",
    "\n",
    "\n",
    "def squared_error(y_true, y_pred):\n",
    "    return (y_true - y_pred) ** 2\n",
    "\n",
    "\n",
    "def absolute_error(y_true, y_pred):\n",
    "    return jnp.abs(y_true - y_pred)\n",
    "\n",
    "\n",
    "def mse(y_true, y_pred, axis=None):\n",
    "    return jnp.mean((y_true - y_pred) ** 2, axis=axis)\n",
    "\n",
    "\n",
    "def mae(y_true, y_pred, axis=None):\n",
    "    return jnp.mean(jnp.abs(y_true - y_pred), axis=axis)\n",
    "\n",
    "\n",
    "def mse_relative(y_true, y_pred, axis=None):\n",
    "    return jnp.mean(((y_true - y_pred) ** 2), axis=axis) / jnp.mean(\n",
    "        (y_true**2), axis=axis\n",
    "    )\n",
    "\n",
    "\n",
    "def mae_relative(y_true, y_pred, axis=None):\n",
    "    return jnp.mean(jnp.abs(y_true - y_pred), axis=axis) / jnp.mean(\n",
    "        jnp.abs(y_true), axis=axis\n",
    "    )\n",
    "\n",
    "\n",
    "def accumulate_metrics(metrics):\n",
    "    metrics = jax.device_get(metrics)\n",
    "    return {k: np.mean([metric[k] for metric in metrics]) for k in metrics[0]}"
   ]
  }
 ],
 "metadata": {
  "kernelspec": {
   "display_name": "python3",
   "language": "python",
   "name": "python3"
  }
 },
 "nbformat": 4,
 "nbformat_minor": 2
}
