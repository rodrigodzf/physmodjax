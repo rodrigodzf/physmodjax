{
 "cells": [
  {
   "cell_type": "markdown",
   "metadata": {},
   "source": [
    "# Modal utils\n",
    "\n",
    "> Utils for converting between modal and physical coordinates."
   ]
  },
  {
   "cell_type": "code",
   "execution_count": null,
   "metadata": {},
   "outputs": [],
   "source": [
    "# | default_exp utils.modal"
   ]
  },
  {
   "cell_type": "code",
   "execution_count": null,
   "metadata": {},
   "outputs": [],
   "source": [
    "# | export\n",
    "\n",
    "import numpy as np"
   ]
  },
  {
   "cell_type": "markdown",
   "metadata": {},
   "source": [
    "The modal matrix $ \\mathbf{M} \\in \\mathbb{R}^{G \\times K} $ represents the mode shapes of a system, with each column as a mode shape corresponding to a vibration mode. Wavenumbers $ \\mathbf{k} \\in \\mathbb{R}^K $ are given by $ k_\\mu = \\frac{\\mu \\pi}{L} $ for modes $ \\mu $ in a system of length $ L $. The grid points $ \\mathbf{g} \\in \\mathbb{R}^G $ represent spatial discretization, with $ g_j = j \\Delta x $.\n",
    "\n",
    "The modal matrix is not a direct outer product of $ \\mathbf{k} $ and $ \\mathbf{g} $. Instead, it's constructed by evaluating mode shapes at these grid points. For systems like vibrating strings, this often involves sinusoidal functions of $ k_\\mu $ and $ g_j $, but more complex systems may require detailed analysis or numerical methods."
   ]
  },
  {
   "cell_type": "code",
   "execution_count": null,
   "metadata": {},
   "outputs": [],
   "source": [
    "# | export\n",
    "\n",
    "def create_modal_matrix(\n",
    "    mode_numbers: np.ndarray,  # array of mode numbers (integers)\n",
    "    string_length: float = 1.0,  # total length of the string in meters\n",
    "    grid: np.ndarray = None,  # grid of points to evaluate the modes on\n",
    ") -> np.ndarray:\n",
    "    \"\"\"\n",
    "    Creates a matrix with the modal shapes as columns.\n",
    "\n",
    "    :param mode_numbers: Array of mode numbers, representing different vibration modes.\n",
    "    :param string_length: Total length of the string.\n",
    "    :param grid: Grid of points to evaluate the modes on.\n",
    "    :return: Matrix with the modal shapes as columns (shape: (grid.size, mode_numbers.size)).\n",
    "    \"\"\"\n",
    "\n",
    "    return np.sin(np.outer(grid, mode_numbers * np.pi / string_length))"
   ]
  },
  {
   "cell_type": "code",
   "execution_count": null,
   "metadata": {},
   "outputs": [],
   "source": [
    "# | test\n",
    "\n",
    "M = create_modal_matrix(np.arange(1, 51), grid=np.linspace(0, 1, 100))\n",
    "assert M.shape == (100, 50)"
   ]
  },
  {
   "cell_type": "markdown",
   "metadata": {},
   "source": [
    "To convert from the physical domain to the modal domain, we use the modal matrix $\\mathbf{M}$ and a scaling factor:\n",
    "\n",
    "$$\n",
    "\\mathbf{u} = \\frac{2}{l} \\mathbf{M} \\cdot \\mathbf{q}\n",
    "$$\n",
    "\n",
    "To convert from the modal domain to the physical domain, we use the inverse modal matrix $\\mathbf{M}^{-1}$ and a scaling factor. Since the modal matrix is orthogonal, the inverse is equal to the transpose:\n",
    "\n",
    "$$\n",
    "\\mathbf{q} = \\frac{l}{g} \\mathbf{M}^T \\cdot \\mathbf{u}\n",
    "$$\n",
    "\n",
    "where $g$ is the number of grid points and $l$ is the length of the string."
   ]
  },
  {
   "cell_type": "code",
   "execution_count": null,
   "metadata": {},
   "outputs": [],
   "source": [
    "# | export\n",
    "\n",
    "def to_displacement(\n",
    "    modal_amplitudes: np.ndarray,  # Amplitudes in the modal domain\n",
    "    modal_shapes: np.ndarray,  # Modal shapes (eigenvectors)\n",
    "    string_length: float = 1.0,  # Length of the string in meters\n",
    ") -> np.ndarray:\n",
    "    \"\"\"\n",
    "    Convert modal amplitudes to physical displacement along the string.\n",
    "\n",
    "    :param modal_amplitudes: Array of amplitudes in the modal domain.\n",
    "    :param modal_shapes: Matrix of modal shapes (each column is a mode shape).\n",
    "    :param string_length: Length of the string.\n",
    "    :return: Array of physical displacements at the grid points.\n",
    "    \"\"\"\n",
    "    # Calculate scaling factor for modal shapes\n",
    "    scaling_factor = 2 / string_length\n",
    "\n",
    "    # Multiply modal shapes by modal amplitudes and scale\n",
    "    physical_displacement = scaling_factor * modal_shapes @ modal_amplitudes\n",
    "\n",
    "    return physical_displacement\n",
    "\n",
    "\n",
    "def to_modal(\n",
    "    physical_displacement: np.ndarray,  # Displacement at grid points\n",
    "    modal_shapes: np.ndarray,  # Modal shapes (eigenvectors)\n",
    "    string_length: float = 1.0,  # Length of the string in meters\n",
    "    num_gridpoints: int = 100,  # Number of grid points\n",
    ") -> np.ndarray:\n",
    "    \"\"\"\n",
    "    Convert physical displacement to modal amplitudes.\n",
    "\n",
    "    :param physical_displacement: Array of displacements at grid points.\n",
    "    :param modal_shapes: Matrix of modal shapes (each column is a mode shape).\n",
    "    :param string_length: Length of the string.\n",
    "    :param num_gridpoints: Number of grid points along the string.\n",
    "    :return: Array of amplitudes in the modal domain.\n",
    "    \"\"\"\n",
    "    # Calculate scaling factor for conversion to modal domain\n",
    "    scaling_factor = string_length / num_gridpoints\n",
    "\n",
    "    # Multiply transpose of modal shapes by physical displacement and scale\n",
    "    modal_amplitudes = scaling_factor * modal_shapes.T @ physical_displacement\n",
    "\n",
    "    return modal_amplitudes"
   ]
  },
  {
   "cell_type": "code",
   "execution_count": null,
   "metadata": {},
   "outputs": [],
   "source": [
    "# | export\n",
    "\n",
    "def create_pluck_modal(\n",
    "    mode_numbers: np.ndarray,  # array of mode numbers (integers)\n",
    "    pluck_position: float = 0.28,  # position of pluck on the string in meters\n",
    "    initial_deflection: float = 0.03,  # initial deflection of the string in meters\n",
    "    string_length: float = 1.0,  # total length of the string in meters\n",
    ") -> np.ndarray:\n",
    "    \"\"\"\n",
    "    Calculate the Fourier-Sine coefficients of the initial deflection\n",
    "    of a plucked string in modal coordinates.\n",
    "\n",
    "    :param modes: Array of mode numbers, representing different vibration modes.\n",
    "    :param pluck_position: Position of the pluck on the string.\n",
    "    :param initial_deflection: Initial displacement of the string at the pluck position.\n",
    "    :param string_length: Total length of the string.\n",
    "    :return: Array of Fourier-Sine coefficients for each mode.\n",
    "    \"\"\"\n",
    "\n",
    "    # Calculate the wave number for each mode\n",
    "    wave_numbers = mode_numbers * np.pi / string_length\n",
    "\n",
    "    # Scaling factor for the initial deflection\n",
    "    deflection_scaling = initial_deflection * (\n",
    "        string_length / (string_length - pluck_position)\n",
    "    )\n",
    "\n",
    "    # Compute the Fourier-Sine coefficients\n",
    "    fourier_coefficients = (\n",
    "        deflection_scaling\n",
    "        * np.sin(wave_numbers * pluck_position)\n",
    "        / (wave_numbers * pluck_position)\n",
    "    )\n",
    "    fourier_coefficients /= wave_numbers\n",
    "\n",
    "    return fourier_coefficients"
   ]
  },
  {
   "cell_type": "code",
   "execution_count": null,
   "metadata": {},
   "outputs": [],
   "source": [
    "# | test\n",
    "\n",
    "n_gridpoints = 100\n",
    "dx  = 1 / n_gridpoints   # m spatial sampling interval\n",
    "mu = np.arange(1, 50 + 1) # mode numbers\n",
    "length = 1.0 # m\n",
    "mode_numbers = np.arange(1, 50 + 1)\n",
    "grid = np.arange(0, length, dx)\n",
    "\n",
    "q = create_pluck_modal(\n",
    "    mode_numbers,\n",
    "    pluck_position=0.28,\n",
    "    initial_deflection=0.03,\n",
    ")\n",
    "\n",
    "M = create_modal_matrix(\n",
    "    mu, \n",
    "    length, \n",
    "    grid\n",
    ")\n",
    "\n",
    "u = to_displacement(q, M, length)\n",
    "q = to_modal(u, M, length, n_gridpoints)\n",
    "u0_new = to_displacement(q, M, length)\n",
    "assert np.allclose(u, u0_new, atol=1e-5)"
   ]
  }
 ],
 "metadata": {
  "kernelspec": {
   "display_name": "python3",
   "language": "python",
   "name": "python3"
  }
 },
 "nbformat": 4,
 "nbformat_minor": 2
}
