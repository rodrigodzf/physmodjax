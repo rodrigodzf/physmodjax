{
 "cells": [
  {
   "cell_type": "markdown",
   "metadata": {},
   "source": [
    "# Pseudo-spectral Solver\n",
    "\n",
    "> A pseudo-spectral solver for the 1D wave equation."
   ]
  },
  {
   "cell_type": "code",
   "execution_count": null,
   "metadata": {},
   "outputs": [],
   "source": [
    "# | default_exp solver.wave1d_pseudospectral\n"
   ]
  },
  {
   "cell_type": "markdown",
   "metadata": {},
   "source": [
    "The wave equation in 1D is given by:\n",
    "\n",
    "$$\\frac{\\partial^2 u}{\\partial t^2} = c^2 \\frac{\\partial^2 u}{\\partial x^2}$$\n",
    "\n",
    "where $c$ is the wave speed. "
   ]
  },
  {
   "cell_type": "markdown",
   "metadata": {},
   "source": [
    "In the pseudo-spectral method, we transform the derivatives in space to the frequency domain, solve the equation in the frequency domain, and then transform back to the spatial domain. We solve the problem and iterate using an ode solver."
   ]
  },
  {
   "cell_type": "markdown",
   "metadata": {},
   "source": [
    "The 2nd derivative in space is given by:\n",
    "\n",
    "$$\n",
    "\\frac{\\partial^2 u}{\\partial x^2} = \\mathcal{F}^{-1} \\left[ (ik)^2 \\mathcal{F} \\left( u \\right) \\right]\n",
    "$$\n",
    "\n",
    "where $\\mathcal{F}$ and $\\mathcal{F}^{-1}$ are the forward and inverse Fourier transforms, respectively, and $k$ is the wavenumber."
   ]
  },
  {
   "cell_type": "code",
   "execution_count": null,
   "metadata": {},
   "outputs": [],
   "source": [
    "# | export\n",
    "\n",
    "import numpy as np\n",
    "from scipy.integrate import solve_ivp\n",
    "from typing import Tuple"
   ]
  },
  {
   "cell_type": "code",
   "execution_count": null,
   "metadata": {},
   "outputs": [],
   "source": [
    "import matplotlib.pyplot as plt\n"
   ]
  },
  {
   "cell_type": "code",
   "execution_count": null,
   "metadata": {},
   "outputs": [],
   "source": [
    "# | export\n",
    "\n",
    "\n",
    "def fourier_derivative_2(\n",
    "    u: np.ndarray,  # function in physical space\n",
    "    k: np.ndarray,  # wave number array\n",
    "):\n",
    "    \"\"\"\n",
    "    Compute the 2nd derivative of a function in Fourier space, and return the result in physical space.\n",
    "    \"\"\"\n",
    "    u_hat = np.fft.fft(u)\n",
    "    dudx2 = (1j * k) ** 2 * u_hat  # 2nd derivative\n",
    "    return np.real(np.fft.ifft(dudx2))"
   ]
  },
  {
   "cell_type": "markdown",
   "metadata": {},
   "source": [
    "Define the right-hand side of the equation as"
   ]
  },
  {
   "cell_type": "code",
   "execution_count": null,
   "metadata": {},
   "outputs": [],
   "source": [
    "# | export\n",
    "\n",
    "\n",
    "class Wave1dSolverPseudoSpectral:\n",
    "    \"\"\"\n",
    "    This class solves the 1D wave equation using the pseudo-spectral method.\n",
    "    Inspired by the content in https://www.coursera.org/learn/computers-waves-simulations/home/week/5\n",
    "    It assumes dirchlet boundary conditions on both ends of the string.\n",
    "    \"\"\"\n",
    "\n",
    "    def __init__(\n",
    "        self,\n",
    "        sampling_rate: float,  # sampling rate in Hz\n",
    "        final_time: float,  # final time in seconds\n",
    "        length: float,  # length of the string in meters\n",
    "        n_gridpoints: int,  # number of points in the string\n",
    "        wave_speed: float = 1,  # wave speed in m/s\n",
    "    ):\n",
    "        self.sampling_rate = sampling_rate\n",
    "        self.final_time = final_time\n",
    "        self.length = length\n",
    "        self.wave_speed = wave_speed\n",
    "        self.n_gridpoints = n_gridpoints\n",
    "\n",
    "        self.dt = 1 / self.sampling_rate\n",
    "        self.timesteps = np.arange(0, self.final_time, self.dt)\n",
    "        self.grid = np.linspace(0, self.length, self.n_gridpoints)\n",
    "        self.dx = self.grid[1] - self.grid[0]\n",
    "        self.pde_order_time_derivatives = 2\n",
    "\n",
    "        print(f\"dx: {self.dx} in meters\")\n",
    "        print(f\"dt: {self.dt} in seconds\")\n",
    "        print(f\"number of points (n_gridpoints): {self.grid.shape}\")\n",
    "        print(f\"time in samples (nt): {self.timesteps.shape}\")\n",
    "\n",
    "        # Wave numbers for Fourier differentiation in space\n",
    "        self.n_modes = 2 * np.pi * np.fft.fftfreq(self.n_gridpoints, d=self.dx)\n",
    "\n",
    "    def solve(\n",
    "        self,\n",
    "        u0: np.ndarray,  # initial position\n",
    "        v0: np.ndarray,  # initial velocity\n",
    "    ) -> Tuple[np.ndarray, np.ndarray, np.ndarray]:  # Returns time, position, velocity\n",
    "        \"\"\"\n",
    "        Solve the wave equation using the pseudo-spectral method.\n",
    "        \"\"\"\n",
    "\n",
    "        def wave_equation(\n",
    "            t,  # time\n",
    "            state,  # state vector\n",
    "            c: float,  # wave speed\n",
    "            k: np.ndarray,  # wave number array\n",
    "            n_gridpoints: int,  # number of grid points\n",
    "        ) -> np.ndarray:  # state at timestep t and position x (u(x, t))\n",
    "            \"\"\"\n",
    "            Right hand side of the wave equation\n",
    "            \"\"\"\n",
    "\n",
    "            u = state[:n_gridpoints]  # position\n",
    "            v = state[n_gridpoints:]  # velocity\n",
    "\n",
    "            # Set dirchlet boundary conditions\n",
    "            # before computing the 2nd derivative\n",
    "            u[0] = 0\n",
    "            u[-1] = 0\n",
    "\n",
    "            # 2nd derivative of position\n",
    "            dudx2 = fourier_derivative_2(u, k)\n",
    "\n",
    "            dv_dt = c**2 * dudx2\n",
    "\n",
    "            v[0] = 0\n",
    "            v[-1] = 0\n",
    "\n",
    "            # return the state derivatives\n",
    "            return np.concatenate([v, dv_dt])\n",
    "\n",
    "        # solve the wave equation\n",
    "        sol = solve_ivp(\n",
    "            fun=wave_equation,\n",
    "            t_span=[0, self.final_time],\n",
    "            y0=np.concatenate([u0, v0], axis=0),\n",
    "            method=\"RK45\",\n",
    "            t_eval=self.timesteps,\n",
    "            args=(self.wave_speed, self.n_modes, self.n_gridpoints),\n",
    "        )\n",
    "\n",
    "        return sol.t, sol.y[: self.n_gridpoints].T, sol.y[self.n_gridpoints :].T"
   ]
  },
  {
   "cell_type": "markdown",
   "metadata": {},
   "source": [
    "Test the solver"
   ]
  },
  {
   "cell_type": "code",
   "execution_count": null,
   "metadata": {},
   "outputs": [],
   "source": [
    "from physmodjax.solver.generator import Gaussian\n"
   ]
  },
  {
   "cell_type": "code",
   "execution_count": null,
   "metadata": {},
   "outputs": [
    {
     "name": "stdout",
     "output_type": "stream",
     "text": [
      "dx: 0.010101010101010102 in meters\n",
      "dt: 2.0833333333333333e-05 in seconds\n",
      "number of points (n_gridpoints): (100,)\n",
      "time in samples (nt): (48000,)\n",
      "(48000,) (48000, 100) (48000, 100)\n"
     ]
    }
   ],
   "source": [
    "n_gridpoints = 1000\n",
    "solver = Wave1dSolverPseudoSpectral(\n",
    "    sampling_rate=44100,\n",
    "    final_time=1,\n",
    "    length=1,\n",
    "    n_gridpoints=n_gridpoints,\n",
    "    wave_speed=1,\n",
    ")\n",
    "\n",
    "u0 = Gaussian(num_points=n_gridpoints)()\n",
    "v0 = np.zeros_like(u0)\n",
    "\n",
    "t, u, v = solver.solve(u0, v0)\n"
   ]
  },
  {
   "cell_type": "code",
   "execution_count": null,
   "metadata": {},
   "outputs": [
    {
     "data": {
      "text/plain": [
       "[<matplotlib.lines.Line2D>]"
      ]
     },
     "execution_count": null,
     "metadata": {},
     "output_type": "execute_result"
    },
    {
     "data": {
      "image/png": "[encoded data removed]",
      "text/plain": [
       "<Figure size 640x480 with 1 Axes>"
      ]
     },
     "metadata": {},
     "output_type": "display_data"
    }
   ],
   "source": [
    "# | eval : false\n",
    "\n",
    "# show the solution viewed from above\n",
    "plt.figure(figsize=(5, 10))\n",
    "plt.pcolormesh(solver.grid, t[::100], u[::100])\n",
    "plt.xlabel(\"x\")\n",
    "plt.ylabel(\"t\")\n",
    "plt.colorbar()\n",
    "plt.show()\n"
   ]
  }
 ],
 "metadata": {
  "kernelspec": {
   "display_name": "python3",
   "language": "python",
   "name": "python3"
  }
 },
 "nbformat": 4,
 "nbformat_minor": 4
}
